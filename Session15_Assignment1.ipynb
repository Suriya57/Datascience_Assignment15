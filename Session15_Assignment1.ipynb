{
 "cells": [
  {
   "cell_type": "code",
   "execution_count": 12,
   "metadata": {},
   "outputs": [
    {
     "name": "stdout",
     "output_type": "stream",
     "text": [
      "The average rent paid by the tenants is : 1158.33\n",
      "The standard deviation is : 335.93\n"
     ]
    }
   ],
   "source": [
    "import numpy as np\n",
    "# Getting the rents as a list\n",
    "rent =[1550,1700,900,850,1000,950]\n",
    "# Using the numpy's mean() function to get the average rent\n",
    "average_rent = np.mean(rent)\n",
    "print(\"The average rent paid by the tenants is : {:.2f}\".format(average_rent))\n",
    "# Using the numpy's std() function to get the standard deviation\n",
    "standard_deviation = np.std(rent)\n",
    "print(\"The standard deviation is : {:.2f}\".format(standard_deviation))"
   ]
  },
  {
   "cell_type": "code",
   "execution_count": 20,
   "metadata": {},
   "outputs": [
    {
     "name": "stdout",
     "output_type": "stream",
     "text": [
      "The variance in tree height is : 5183.25\n"
     ]
    }
   ],
   "source": [
    "import numpy as np\n",
    "\n",
    "# Getting the height of trees in foot as a list\n",
    "tree_height = [3,21,98,203,17,9]\n",
    "# Using the numpy's var() function to get the variance. the same can also be realized by squaring the standard deviation \n",
    "variance_tree_height = np.var(tree_height)\n",
    "print(\"The variance in tree height is : {:.2f}\".format(variance_tree_height))"
   ]
  },
  {
   "cell_type": "code",
   "execution_count": 26,
   "metadata": {},
   "outputs": [
    {
     "data": {
      "image/png": "[encoded data removed]",
      "text/plain": [
       "<Figure size 432x288 with 1 Axes>"
      ]
     },
     "metadata": {},
     "output_type": "display_data"
    }
   ],
   "source": [
    "import numpy as np\n",
    "import matplotlib.pyplot as plt\n",
    "\n",
    "# Realizing the subjects as list - Eg., Failed in zero,one,two and three subjects\n",
    "failure_count_subjects = [0,1,2,3]\n",
    "# The probablity function is realized with respect to student count\n",
    "prob_func = [80/100,10/100,7/100,3/100]\n",
    "# Realizing the probablity distribution using a bar chart\n",
    "plt.bar(failure_count_subjects,prob_func)\n",
    "plt.xlabel('Failure_count_of_subjects')\n",
    "plt.ylabel('Number_of_students_failure_per_subject')\n",
    "plt.show()"
   ]
  }
 ],
 "metadata": {
  "kernelspec": {
   "display_name": "Python 3",
   "language": "python",
   "name": "python3"
  },
  "language_info": {
   "codemirror_mode": {
    "name": "ipython",
    "version": 3
   },
   "file_extension": ".py",
   "mimetype": "text/x-python",
   "name": "python",
   "nbconvert_exporter": "python",
   "pygments_lexer": "ipython3",
   "version": "3.6.1"
  }
 },
 "nbformat": 4,
 "nbformat_minor": 2
}
